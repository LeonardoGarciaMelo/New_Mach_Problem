{
 "cells": [
  {
   "cell_type": "code",
   "execution_count": 4,
   "metadata": {},
   "outputs": [
    {
     "data": {
      "text/plain": [
       "array([0.99024868, 0.00975132])"
      ]
     },
     "metadata": {},
     "output_type": "display_data"
    },
    {
     "data": {
      "text/plain": [
       "array([0.9119606, 0.0880394])"
      ]
     },
     "metadata": {},
     "output_type": "display_data"
    },
    {
     "data": {
      "text/plain": [
       "array([0.81253624, 0.18746376])"
      ]
     },
     "metadata": {},
     "output_type": "display_data"
    },
    {
     "data": {
      "text/plain": [
       "array([0.77706051, 0.22293949])"
      ]
     },
     "metadata": {},
     "output_type": "display_data"
    },
    {
     "data": {
      "text/plain": [
       "array([0.84594917, 0.15405083])"
      ]
     },
     "metadata": {},
     "output_type": "display_data"
    }
   ],
   "source": [
    "from qiskit.circuit import QuantumCircuit, Qubit, Clbit\n",
    "from qiskit_aer import AerSimulator\n",
    "import qiskit.quantum_info as qi\n",
    "import numpy as np\n",
    "\n",
    "test_cases = [\n",
    "    ('0.1', '[0.990234375, 0.009765625]'),\n",
    "    ('0.3124456', '[0.915283203125, 0.084716796875]'),\n",
    "    ('0.5', '[0.8125, 0.1875]'),\n",
    "    ('0.577350269', '[0.777778, 0.222222]'),\n",
    "    ('0.9', '[0.842529296875, 0.157470703125]')\n",
    "]\n",
    "\n",
    "def beam_splitter(r):\n",
    "    \"\"\"\n",
    "    Returns the beam splitter matrix.\n",
    "\n",
    "    Args:\n",
    "        - r (float): The reflection coefficient of the beam splitter.\n",
    "    Returns:\n",
    "        - (np.array): 2 x 2 matrix that represents the beam\n",
    "        splitter matrix.    \n",
    "    \"\"\"\n",
    "    t = (1 - (r ** 2)) ** (1 / 2)\n",
    "    matriz_r = np.array([[r, t],\n",
    "                         [t, (-r)]])\n",
    "    return matriz_r\n",
    "\n",
    "def mz_interferometer(r):\n",
    "    \"\"\"\n",
    "    This quantum circuit returns the probability that either A or C\n",
    "    detect a photon, and the probability that D detects a photon.\n",
    "    \n",
    "    Args:\n",
    "        - r (float): The reflection coefficient of the beam splitters.\n",
    "    Returns: \n",
    "        - np.array(float): An array of shape (2,), where the first \n",
    "        element is the probability of detection at A or C,\n",
    "        and the second element is the probability of detection at D.\n",
    "    \"\"\"\n",
    "    shots = 2**20\n",
    "    backend = AerSimulator()\n",
    "    entradas = [Qubit(), Clbit()]\n",
    "    qc = QuantumCircuit(entradas)\n",
    "    bc = qi.Operator(beam_splitter(r))\n",
    "    qc.unitary(bc, [0], label= \"Beam_Splitter\")\n",
    "    qc.measure(0, 0)\n",
    "    with qc.if_test((entradas[1],1)) as else_:\n",
    "        qc.unitary(bc, [0], label= \"Beam_Splitter\")\n",
    "        qc.measure(0, 0)\n",
    "    backend = AerSimulator()\n",
    "    job = backend.run(qc, shots=shots)\n",
    "    result = job.result()\n",
    "    counts = result.get_counts()\n",
    "    for k, v in counts.items():\n",
    "        if k == '0':\n",
    "            probabilidade_A_C = v/shots\n",
    "        else:\n",
    "            probabilidade_D = v/shots\n",
    "    return np.array([probabilidade_A_C,probabilidade_D])\n",
    "\n",
    "display(mz_interferometer(0.1))\n",
    "display(mz_interferometer(0.3124456))\n",
    "display(mz_interferometer(0.5))\n",
    "display(mz_interferometer(0.577350269))\n",
    "display(mz_interferometer(0.9))"
   ]
  }
 ],
 "metadata": {
  "kernelspec": {
   "display_name": "Python 3",
   "language": "python",
   "name": "python3"
  },
  "language_info": {
   "codemirror_mode": {
    "name": "ipython",
    "version": 3
   },
   "file_extension": ".py",
   "mimetype": "text/x-python",
   "name": "python",
   "nbconvert_exporter": "python",
   "pygments_lexer": "ipython3",
   "version": "3.12.0"
  }
 },
 "nbformat": 4,
 "nbformat_minor": 2
}
